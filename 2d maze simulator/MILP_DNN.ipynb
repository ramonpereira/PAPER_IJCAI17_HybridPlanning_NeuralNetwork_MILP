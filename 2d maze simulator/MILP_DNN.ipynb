{
 "cells": [
  {
   "cell_type": "markdown",
   "metadata": {},
   "source": [
    "# MILP optimization control with deep network transition\n",
    "\n",
    "## Simple planning problem with continuous states\n",
    "In this simple planning problem, we are going to show learning the model directly from realtime data stream and apply optimization on the model. The data will be generated from a simulator, which represent a 2D maze problem. "
   ]
  },
  {
   "cell_type": "markdown",
   "metadata": {},
   "source": [
    "Package installation"
   ]
  },
  {
   "cell_type": "code",
   "execution_count": 1,
   "metadata": {
    "collapsed": true
   },
   "outputs": [],
   "source": [
    "!pip --quiet install keras\n",
    "!pip --quiet install h5py"
   ]
  },
  {
   "cell_type": "markdown",
   "metadata": {},
   "source": [
    "Package imports"
   ]
  },
  {
   "cell_type": "code",
   "execution_count": 2,
   "metadata": {
    "collapsed": false
   },
   "outputs": [
    {
     "name": "stderr",
     "output_type": "stream",
     "text": [
      "Using TensorFlow backend.\n"
     ]
    }
   ],
   "source": [
    "%matplotlib inline\n",
    "import random\n",
    "import os\n",
    "import json\n",
    "import sys\n",
    "import string\n",
    "import unicodedata\n",
    "#Numpy and Scipy\n",
    "import numpy as np\n",
    "from numpy import genfromtxt\n",
    "import matplotlib.pyplot as plt\n",
    "from scipy.spatial import distance\n",
    "#KERAS\n",
    "from keras.layers import Dense, Activation,Dropout\n",
    "from keras.models import Sequential\n",
    "from keras.regularizers import l1,l2\n",
    "from keras.models import load_model"
   ]
  },
  {
   "cell_type": "markdown",
   "metadata": {},
   "source": [
    "## Data Generation Part\n",
    "### 1. Maze problem domain simulator"
   ]
  },
  {
   "cell_type": "markdown",
   "metadata": {},
   "source": [
    "Brief Discription of this domain simulator\n",
    "\n",
    "1. Define a 2D maze, which allows agent move continously in this domain. \n",
    "2. Has one Goal state and one start state. \n",
    "3. Allows to define obstacles that agent cannot move in, or it will transfered to jail.\n",
    "4. There is a jail location that outside maze domain.\n",
    "5. Agent alive in deadend in the period of tolerate time steps\n"
   ]
  },
  {
   "cell_type": "code",
   "execution_count": 3,
   "metadata": {
    "collapsed": false
   },
   "outputs": [],
   "source": [
    "'''\n",
    "Created on Oct 6, 2016\n",
    "\n",
    "This class has two construction functions.\n",
    "1. From data\n",
    "2. From initial settings\n",
    "\n",
    "Example of 2D maze setting\n",
    "\n",
    "initial_setting = {\n",
    "    \"maze_bound\"        : (0,0,10,10),             #Continous state bound\n",
    "    \"obstacles\"         : [(1,1,3,3),(5,4,6,6.5)], #Some obstacles that never crosspassing\n",
    "    \"current_state\"     : (0,0,0,1),               #Current State in X,Y and If in Jail\n",
    "    \"action_range\"      : (-0.5,0.5),              #The effective action range\n",
    "    \"action_dim\"        : 2,                       #Dimension of Actions\n",
    "    \"goal_state\"        : (10,10,0,1),             #The goal state to finish running\n",
    "    \"jail_location\"     : (-1,-1,1,0),             #Jain location\n",
    "    \"deadend_toleration\": 2                        #How many step left after getting into jail\n",
    "                   }\n",
    "@author: wuga\n",
    "'''\n",
    "\n",
    "class DeterministicMaze(object):\n",
    "    \n",
    "    def __init__(self, setting):\n",
    "        self.__dict__.update(setting)\n",
    "        self.backup = setting\n",
    "        self.X_AXIS = 0\n",
    "        \n",
    "    def Reset(self):\n",
    "        backup=self.backup\n",
    "        self.__dict__.update(backup)\n",
    "        self.backup = backup\n",
    "        self.X_AXIS = 0\n",
    "    \n",
    "    def UpdateState(self,new_state):\n",
    "        self.current_state = new_state\n",
    "        \n",
    "    def Apply(self, action):\n",
    "        if not self.current_state[2]:\n",
    "            x_axis=self.current_state[0]\n",
    "            y_axis=self.current_state[1]\n",
    "            x_axis=self.current_state[0]+action[0]\n",
    "            if x_axis>self.maze_bound[2]:\n",
    "                x_axis=self.maze_bound[2]\n",
    "            if x_axis<self.maze_bound[0]:\n",
    "                x_axis=self.maze_bound[0]\n",
    "            y_axis=self.current_state[1]+action[1]\n",
    "            if y_axis>self.maze_bound[3]:\n",
    "                y_axis=self.maze_bound[3]\n",
    "            if y_axis<self.maze_bound[1]:\n",
    "                y_axis=self.maze_bound[1]\n",
    "            self.UpdateState((x_axis,y_axis,0,1))\n",
    "            if self.Collision():\n",
    "                self.UpdateState(self.jail_location)\n",
    "        else:\n",
    "            self.deadend_toleration=self.deadend_toleration-1\n",
    "        return self.current_state\n",
    "                \n",
    "    def StateIn(self, area, position):\n",
    "        if (position[0] >= area[0]) and (position[0] <= area[2]) and \\\n",
    "        (position[1] >= area[1]) and (position[1] <= area[3]):\n",
    "            return True\n",
    "        else:\n",
    "            return False\n",
    "                \n",
    "    def Collision(self):\n",
    "        for area in self.obstacles:\n",
    "            if self.StateIn(area, self.current_state):\n",
    "                return True\n",
    "        return False\n",
    "    \n",
    "    def IfGameEnd(self):\n",
    "        if (self.current_state[0] == self.goal_state[0]) and \\\n",
    "        (self.current_state[1] == self.goal_state[1]) and \\\n",
    "        (self.current_state[2] == self.goal_state[2]):\n",
    "            #print 'Get goal state! system resetted'\n",
    "            self.Reset()\n",
    "        if (self.deadend_toleration == 0):\n",
    "            self.Reset()\n",
    "            \n",
    "    def DeltaDistance(self,new_state,old_state):\n",
    "        delta=[]\n",
    "        delta.append(new_state[0]-old_state[0])\n",
    "        delta.append(new_state[1]-old_state[1])\n",
    "        if (new_state[2]==1):\n",
    "            delta.append(1)\n",
    "            delta.append(0)\n",
    "        else:\n",
    "            delta.append(0)\n",
    "            delta.append(1)\n",
    "        return delta\n",
    "    \n",
    "    def GetCurrentState(self):\n",
    "        return self.current_state"
   ]
  },
  {
   "cell_type": "markdown",
   "metadata": {},
   "source": [
    "#### Simulator Test code\n",
    "Please read the setting structure for creating maze."
   ]
  },
  {
   "cell_type": "markdown",
   "metadata": {},
   "source": [
    "This is an example of defining a maze"
   ]
  },
  {
   "cell_type": "code",
   "execution_count": 4,
   "metadata": {
    "collapsed": false
   },
   "outputs": [],
   "source": [
    "initial_setting = {\n",
    "    \"maze_bound\"        : (0,0,10,10),             #Continous state bound\n",
    "    \"obstacles\"         : [(1,1,3,3),(5,4,6,6.5)], #Some obstacles that never crosspassing\n",
    "    \"current_state\"     : (0,0,0,1),               #Current State in X,Y and If in Jail\n",
    "    \"action_range\"      : (-0.5,0.5),              #The effective action range\n",
    "    \"goal_state\"        : (10,10,0,1),             #The goal state to finish running\n",
    "    \"jail_location\"     : (-1,-1,1,0),             #Jain location\n",
    "    \"deadend_toleration\": 2,                       #How many step left after getting into jail\n",
    "    \"action_dim\"        : 2                        #Dimension of Actions    \n",
    "    }\n",
    "\n",
    "# Maze=DeterministicMaze(initial_setting)\n",
    "# print Maze.current_state\n",
    "# action1=(0,11)\n",
    "# Maze.Apply(action1)\n",
    "# action2=(1,10)\n",
    "# Maze.Apply(action2)\n",
    "# print Maze.current_state"
   ]
  },
  {
   "cell_type": "markdown",
   "metadata": {},
   "source": [
    "#### Supporting Functions"
   ]
  },
  {
   "cell_type": "code",
   "execution_count": 5,
   "metadata": {
    "collapsed": true
   },
   "outputs": [],
   "source": [
    "#Given local path, find full path\n",
    "def PathFinder(path):\n",
    "    script_dir = os.path.dirname('__file__')\n",
    "    fullpath = os.path.join(script_dir,path)\n",
    "    return fullpath\n",
    "\n",
    "#Read Data for Deep Learning\n",
    "def ReadData(path):\n",
    "    fullpath=PathFinder(path)\n",
    "    return genfromtxt(fullpath, delimiter=',')"
   ]
  },
  {
   "cell_type": "markdown",
   "metadata": {},
   "source": [
    "### 2. Planner\n",
    "This planner is a random walker, who will explore the maze randomly. This is just for generate more random data to support transition function training. "
   ]
  },
  {
   "cell_type": "code",
   "execution_count": 6,
   "metadata": {
    "collapsed": true
   },
   "outputs": [],
   "source": [
    "class RandomWalk(object):\n",
    "    def __init__(self, actiondim, ranges):\n",
    "        self.ranges=ranges\n",
    "        self.actiondim=actiondim\n",
    "    \n",
    "    def Go(self):\n",
    "        stride=[]\n",
    "        for i in range(self.actiondim):\n",
    "            stride.append(random.triangular(self.ranges[0],self.ranges[1], 0.2))\n",
    "        print stride\n",
    "        return stride"
   ]
  },
  {
   "cell_type": "code",
   "execution_count": 7,
   "metadata": {
    "collapsed": false
   },
   "outputs": [
    {
     "name": "stdout",
     "output_type": "stream",
     "text": [
      "[0.20836998187454198, -0.1422587029004846]\n",
      "[0.139310161917234, -0.2084440538673198]\n",
      "[0.19027792742300342, 0.10936172196411265]\n",
      "[0.15671453285574188, -0.19742517009378785]\n",
      "[0.006553637850157945, 0.21794205184538662]\n",
      "[0.2824512554705521, -0.40784771992642765]\n",
      "[-0.2956297831407985, -0.12461429687623399]\n",
      "[-0.378017524667906, -0.25925991091739786]\n",
      "[0.2983589669540238, -0.13045555373876]\n",
      "[0.23421007361647928, 0.10125535429193133]\n"
     ]
    }
   ],
   "source": [
    "Maze=DeterministicMaze(initial_setting)\n",
    "Planner=RandomWalk(Maze.action_dim,Maze.action_range)\n",
    "for i in range(10):\n",
    "    Planner.Go()"
   ]
  },
  {
   "cell_type": "markdown",
   "metadata": {},
   "source": [
    "### 3. Data writter\n",
    "This class combine the simulator and planner to generate some routing data from multiple tries. "
   ]
  },
  {
   "cell_type": "code",
   "execution_count": 8,
   "metadata": {
    "collapsed": true
   },
   "outputs": [],
   "source": [
    "class DataGenerator(object):\n",
    "    def __init__(self, model):\n",
    "            self.maze=model\n",
    "            self.planner=RandomWalk(self.maze.action_dim,self.maze.action_range)\n",
    "            \n",
    "    def WriteData(self,size,datapath,labelpath):\n",
    "        fulldatapath=PathFinder(datapath)\n",
    "        fulllabelpath=PathFinder(labelpath)\n",
    "        datafile = open(fulldatapath,'w')\n",
    "        labelfile = open(fulllabelpath,'w')\n",
    "        for i in range(0,size):\n",
    "            self.maze.IfGameEnd()\n",
    "            action=self.planner.Go()\n",
    "            old_state=Maze.GetCurrentState()\n",
    "            self.maze.Apply(action)\n",
    "            new_state=self.maze.GetCurrentState()\n",
    "            Data=list(old_state)+action\n",
    "            #Label=list(new_state)\n",
    "            Label=self.maze.DeltaDistance(new_state,old_state)\n",
    "            datafile.write(','.join(map(str, Data))+'\\n')\n",
    "            labelfile.write(','.join(map(str, Label))+'\\n')\n",
    "        datafile.close()\n",
    "        labelfile.close()"
   ]
  },
  {
   "cell_type": "markdown",
   "metadata": {},
   "source": [
    "#### Call above classes!"
   ]
  },
  {
   "cell_type": "code",
   "execution_count": 17,
   "metadata": {
    "collapsed": false
   },
   "outputs": [
    {
     "ename": "NameError",
     "evalue": "name 'DeterministicMaze' is not defined",
     "output_type": "error",
     "traceback": [
      "\u001b[0;31m---------------------------------------------------------------------------\u001b[0m",
      "\u001b[0;31mNameError\u001b[0m                                 Traceback (most recent call last)",
      "\u001b[0;32m<ipython-input-17-55b9e90bbaf5>\u001b[0m in \u001b[0;36m<module>\u001b[0;34m()\u001b[0m\n\u001b[0;32m----> 1\u001b[0;31m \u001b[0mMaze\u001b[0m\u001b[0;34m=\u001b[0m\u001b[0mDeterministicMaze\u001b[0m\u001b[0;34m(\u001b[0m\u001b[0minitial_setting\u001b[0m\u001b[0;34m)\u001b[0m\u001b[0;34m\u001b[0m\u001b[0m\n\u001b[0m\u001b[1;32m      2\u001b[0m \u001b[0mGenerator\u001b[0m\u001b[0;34m=\u001b[0m\u001b[0mDataGenerator\u001b[0m\u001b[0;34m(\u001b[0m\u001b[0mMaze\u001b[0m\u001b[0;34m)\u001b[0m\u001b[0;34m\u001b[0m\u001b[0m\n\u001b[1;32m      3\u001b[0m \u001b[0mDatapath\u001b[0m\u001b[0;34m=\u001b[0m\u001b[0;34m\"StateActionData.txt\"\u001b[0m\u001b[0;34m\u001b[0m\u001b[0m\n\u001b[1;32m      4\u001b[0m \u001b[0mLabelpath\u001b[0m\u001b[0;34m=\u001b[0m\u001b[0;34m\"StateActionLabel.txt\"\u001b[0m\u001b[0;34m\u001b[0m\u001b[0m\n\u001b[1;32m      5\u001b[0m \u001b[0mGenerator\u001b[0m\u001b[0;34m.\u001b[0m\u001b[0mWriteData\u001b[0m\u001b[0;34m(\u001b[0m\u001b[0;36m100000\u001b[0m\u001b[0;34m,\u001b[0m\u001b[0mDatapath\u001b[0m\u001b[0;34m,\u001b[0m\u001b[0mLabelpath\u001b[0m\u001b[0;34m)\u001b[0m\u001b[0;34m\u001b[0m\u001b[0m\n",
      "\u001b[0;31mNameError\u001b[0m: name 'DeterministicMaze' is not defined"
     ]
    }
   ],
   "source": [
    "Maze=DeterministicMaze(initial_setting)\n",
    "Generator=DataGenerator(Maze)\n",
    "Datapath=\"StateActionData.txt\"\n",
    "Labelpath=\"StateActionLabel.txt\"\n",
    "Generator.WriteData(100000,Datapath,Labelpath)"
   ]
  },
  {
   "cell_type": "markdown",
   "metadata": {},
   "source": [
    "## Transition Function Learning Part\n",
    "### 1. Deep Net Structure"
   ]
  },
  {
   "cell_type": "code",
   "execution_count": 9,
   "metadata": {
    "collapsed": true
   },
   "outputs": [],
   "source": [
    "#import tensorflow as tf\n",
    "#tf.python.control_flow_ops = tf\n",
    "class FullyConnectedDeepNet(object):\n",
    "    '''\n",
    "\n",
    "    '''\n",
    "    def __init__(self,observ,hidden,output,num_layers,drop_out):\n",
    "        self.drop_out=drop_out\n",
    "        self.DeepNet = Sequential()\n",
    "        #self.Autoencoder.add(Dropout(0.5, input_shape=(observ,)))\n",
    "        self.DeepNet.add(Sequential([Dense(hidden, input_dim=observ), Activation('relu')]))\n",
    "        self.DeepNet.add(Dropout(drop_out))\n",
    "        if num_layers > 1:\n",
    "            for i in range(num_layers-1):\n",
    "                self.DeepNet.add(Sequential([Dense(hidden, input_dim=hidden), Activation('relu')]))\n",
    "                self.DeepNet.add(Dropout(drop_out))\n",
    "        self.DeepNet.add(Dense(output, input_dim=hidden))\n",
    "        self.DeepNet.compile(optimizer='rmsprop', loss='mse')\n",
    "    \n",
    "    def Train(self,data,label,epoch):\n",
    "        self.DeepNet.fit(data, label, nb_epoch=epoch)\n",
    "\n",
    "    def Test(self,datapoint):\n",
    "        return self.DeepNet.predict(datapoint, batch_size=128, verbose=0)\n",
    "    \n",
    "    def LoadModel(self,modelpath):\n",
    "        self.DeepNet=load_model(modelpath)\n",
    "    \n",
    "    def Save(self,modelpath):\n",
    "        self.DeepNet.save(modelpath)\n",
    "        \n",
    "    def GetModel(self):\n",
    "        return self.DeepNet"
   ]
  },
  {
   "cell_type": "markdown",
   "metadata": {},
   "source": [
    "#### Training"
   ]
  },
  {
   "cell_type": "code",
   "execution_count": 72,
   "metadata": {
    "collapsed": false,
    "scrolled": true
   },
   "outputs": [
    {
     "name": "stdout",
     "output_type": "stream",
     "text": [
      "Epoch 1/30\n",
      "90000/90000 [==============================] - 15s - loss: 0.1226    \n",
      "Epoch 2/30\n",
      "90000/90000 [==============================] - 15s - loss: 0.0797    \n",
      "Epoch 3/30\n",
      "90000/90000 [==============================] - 15s - loss: 0.0718    \n",
      "Epoch 4/30\n",
      "90000/90000 [==============================] - 15s - loss: 0.0678    \n",
      "Epoch 5/30\n",
      "90000/90000 [==============================] - 15s - loss: 0.0667    \n",
      "Epoch 6/30\n",
      "90000/90000 [==============================] - 15s - loss: 0.0639    \n",
      "Epoch 7/30\n",
      "90000/90000 [==============================] - 15s - loss: 0.0635    \n",
      "Epoch 8/30\n",
      "90000/90000 [==============================] - 16s - loss: 0.0618    \n",
      "Epoch 9/30\n",
      "90000/90000 [==============================] - 16s - loss: 0.0617    \n",
      "Epoch 10/30\n",
      "90000/90000 [==============================] - 15s - loss: 0.0610    \n",
      "Epoch 11/30\n",
      "90000/90000 [==============================] - 16s - loss: 0.0604    \n",
      "Epoch 12/30\n",
      "90000/90000 [==============================] - 16s - loss: 0.0598    \n",
      "Epoch 13/30\n",
      "90000/90000 [==============================] - 16s - loss: 0.0603    \n",
      "Epoch 14/30\n",
      "90000/90000 [==============================] - 16s - loss: 0.0584    \n",
      "Epoch 15/30\n",
      "90000/90000 [==============================] - 15s - loss: 0.0581    \n",
      "Epoch 16/30\n",
      "90000/90000 [==============================] - 15s - loss: 0.0600    \n",
      "Epoch 17/30\n",
      "90000/90000 [==============================] - 16s - loss: 0.0584    \n",
      "Epoch 18/30\n",
      "90000/90000 [==============================] - 15s - loss: 0.0576    \n",
      "Epoch 19/30\n",
      "90000/90000 [==============================] - 15s - loss: 0.0578    \n",
      "Epoch 20/30\n",
      "90000/90000 [==============================] - 15s - loss: 0.0563    \n",
      "Epoch 21/30\n",
      "90000/90000 [==============================] - 15s - loss: 0.0571    \n",
      "Epoch 22/30\n",
      "90000/90000 [==============================] - 15s - loss: 0.0586    \n",
      "Epoch 23/30\n",
      "90000/90000 [==============================] - 15s - loss: 0.0563    \n",
      "Epoch 24/30\n",
      "90000/90000 [==============================] - 15s - loss: 0.0567    \n",
      "Epoch 25/30\n",
      "90000/90000 [==============================] - 15s - loss: 0.0570    \n",
      "Epoch 26/30\n",
      "90000/90000 [==============================] - 15s - loss: 0.0563    \n",
      "Epoch 27/30\n",
      "90000/90000 [==============================] - 15s - loss: 0.0567    \n",
      "Epoch 28/30\n",
      "90000/90000 [==============================] - 15s - loss: 0.0576    \n",
      "Epoch 29/30\n",
      "90000/90000 [==============================] - 15s - loss: 0.0562    \n",
      "Epoch 30/30\n",
      "90000/90000 [==============================] - 15s - loss: 0.0549    \n",
      "Epoch 1/30\n",
      "90000/90000 [==============================] - 8s - loss: 0.0363     \n",
      "Epoch 2/30\n",
      "90000/90000 [==============================] - 8s - loss: 0.0254     \n",
      "Epoch 3/30\n",
      "90000/90000 [==============================] - 9s - loss: 0.0246     \n",
      "Epoch 4/30\n",
      "90000/90000 [==============================] - 8s - loss: 0.0242     \n",
      "Epoch 5/30\n",
      "90000/90000 [==============================] - 8s - loss: 0.0240     \n",
      "Epoch 6/30\n",
      "90000/90000 [==============================] - 8s - loss: 0.0239     \n",
      "Epoch 7/30\n",
      "90000/90000 [==============================] - 8s - loss: 0.0237     \n",
      "Epoch 8/30\n",
      "90000/90000 [==============================] - 8s - loss: 0.0237     \n",
      "Epoch 9/30\n",
      "90000/90000 [==============================] - 8s - loss: 0.0237     \n",
      "Epoch 10/30\n",
      "90000/90000 [==============================] - 8s - loss: 0.0236     \n",
      "Epoch 11/30\n",
      "90000/90000 [==============================] - 8s - loss: 0.0235     \n",
      "Epoch 12/30\n",
      "90000/90000 [==============================] - 8s - loss: 0.0234     \n",
      "Epoch 13/30\n",
      "90000/90000 [==============================] - 8s - loss: 0.0235     \n",
      "Epoch 14/30\n",
      "90000/90000 [==============================] - 8s - loss: 0.0234     \n",
      "Epoch 15/30\n",
      "90000/90000 [==============================] - 8s - loss: 0.0234     \n",
      "Epoch 16/30\n",
      "90000/90000 [==============================] - 8s - loss: 0.0234     \n",
      "Epoch 17/30\n",
      "90000/90000 [==============================] - 8s - loss: 0.0234     \n",
      "Epoch 18/30\n",
      "90000/90000 [==============================] - 8s - loss: 0.0233     \n",
      "Epoch 19/30\n",
      "90000/90000 [==============================] - 8s - loss: 0.0233     \n",
      "Epoch 20/30\n",
      "90000/90000 [==============================] - 8s - loss: 0.0232     \n",
      "Epoch 21/30\n",
      "90000/90000 [==============================] - 8s - loss: 0.0232     \n",
      "Epoch 22/30\n",
      "90000/90000 [==============================] - 8s - loss: 0.0232     \n",
      "Epoch 23/30\n",
      "90000/90000 [==============================] - 8s - loss: 0.0232     \n",
      "Epoch 24/30\n",
      "90000/90000 [==============================] - 8s - loss: 0.0233     \n",
      "Epoch 25/30\n",
      "90000/90000 [==============================] - 8s - loss: 0.0232     \n",
      "Epoch 26/30\n",
      "90000/90000 [==============================] - 8s - loss: 0.0232     \n",
      "Epoch 27/30\n",
      "90000/90000 [==============================] - 8s - loss: 0.0232     \n",
      "Epoch 28/30\n",
      "90000/90000 [==============================] - 8s - loss: 0.0232     \n",
      "Epoch 29/30\n",
      "90000/90000 [==============================] - 8s - loss: 0.0231     \n",
      "Epoch 30/30\n",
      "90000/90000 [==============================] - 8s - loss: 0.0231     \n"
     ]
    }
   ],
   "source": [
    "Datapath=\"StateActionData.txt\"\n",
    "Labelpath=\"StateActionLabel.txt\"\n",
    "DNN_DELTA=FullyConnectedDeepNet(6,100,2,4,0.1)\n",
    "DNN_INJAIL=FullyConnectedDeepNet(6,100,2,1,0.1)\n",
    "Full_Data=ReadData(Datapath)\n",
    "Full_Label=ReadData(Labelpath)\n",
    "Train_Data = Full_Data[:90000]\n",
    "Train_Label = Full_Label[:90000]\n",
    "Test_Data = Full_Data[90000:]\n",
    "Test_Label = Full_Label[90000:]\n",
    "DNN_DELTA.Train(Train_Data,Train_Label[:,:2],30)\n",
    "DNN_INJAIL.Train(Train_Data,Train_Label[:,2:],30)"
   ]
  },
  {
   "cell_type": "code",
   "execution_count": 74,
   "metadata": {
    "collapsed": false
   },
   "outputs": [],
   "source": [
    "DNN_DELTA.Save(\"TransitionModel_DELTA.h5\")\n",
    "DNN_INJAIL.Save(\"TransitionModel_INJAIL.h5\")"
   ]
  },
  {
   "cell_type": "code",
   "execution_count": 14,
   "metadata": {
    "collapsed": false
   },
   "outputs": [],
   "source": [
    "Datapath=\"StateActionData.txt\"\n",
    "Labelpath=\"StateActionLabel.txt\"\n",
    "Full_Data=ReadData(Datapath)\n",
    "Full_Label=ReadData(Labelpath)\n",
    "Train_Data = Full_Data[:90000]\n",
    "Train_Label = Full_Label[:90000]\n",
    "Test_Data = Full_Data[90000:]\n",
    "Test_Label = Full_Label[90000:]\n",
    "DNN_DELTA=FullyConnectedDeepNet(6,100,2,4,0.1)\n",
    "DNN_INJAIL=FullyConnectedDeepNet(6,100,2,1,0.1)\n",
    "DNN_DELTA.LoadModel(\"TransitionModel_DELTA.h5\")\n",
    "DNN_INJAIL.LoadModel(\"TransitionModel_INJAIL.h5\")"
   ]
  },
  {
   "cell_type": "code",
   "execution_count": 15,
   "metadata": {
    "collapsed": false
   },
   "outputs": [
    {
     "name": "stdout",
     "output_type": "stream",
     "text": [
      "[[ 0.00608246  0.16082352  0.00454286  0.99545717]\n",
      " [ 0.01034294  0.16091695  0.01641883  0.98358119]\n",
      " [-0.0132833   0.17351052  0.01983301  0.98016703]]\n",
      "[[ -5.07482936e-04   1.53839747e-01   0.00000000e+00   1.00000000e+00]\n",
      " [  9.50891851e-03   1.53513529e-01   0.00000000e+00   1.00000000e+00]\n",
      " [ -1.01158453e-02   1.70352886e-01   0.00000000e+00   1.00000000e+00]]\n"
     ]
    }
   ],
   "source": [
    "# Show performance of the DNN model(Samples)\n",
    "Test_Pred = np.concatenate((DNN_DELTA.Test(Test_Data), DNN_INJAIL.Test(Test_Data)), axis=1)\n",
    "print Test_Pred[:3]\n",
    "print Test_Label[:3]"
   ]
  },
  {
   "cell_type": "code",
   "execution_count": 16,
   "metadata": {
    "collapsed": false
   },
   "outputs": [
    {
     "data": {
      "image/png": "[encoded data removed]",
      "text/plain": [
       "<matplotlib.figure.Figure at 0x11d6c90d0>"
      ]
     },
     "metadata": {},
     "output_type": "display_data"
    }
   ],
   "source": [
    "import numpy as np\n",
    "import matplotlib.pyplot as plt\n",
    "import matplotlib.patches as patches\n",
    "\n",
    "def Virtualizing(Data, Label, Pred, Obstacles,SampleSize):\n",
    "    sample_index=np.random.choice(len(Data), SampleSize)\n",
    "    #print sample_index\n",
    "    #print Train_Data[sample_index,:2],Train_Label[sample_index,:2]\n",
    "    fig9 = plt.figure()\n",
    "    ax9 = fig9.add_subplot(111)\n",
    "    for i in sample_index:\n",
    "        plt.plot([Data[i,0],Data[i,0]+Label[i,0]], [Data[i,1],Data[i,1]+Label[i,1]], 'r-',lw=1)\n",
    "        plt.plot([Data[i,0],Data[i,0]+Pred[i,0]], [Data[i,1],Data[i,1]+Pred[i,1]], 'k-',lw=1)\n",
    "    for j in range(len(Obstacles)):\n",
    "        ax9.add_patch(patches.Rectangle((Obstacles[j][0], Obstacles[j][1]),\n",
    "                                        Obstacles[j][2]-Obstacles[j][0], Obstacles[j][3]-Obstacles[j][1],\n",
    "                                        hatch='\\\\', fill=False,linestyle='solid'))\n",
    "    plt.show()\n",
    "\n",
    "Virtualizing(Test_Data,Test_Label,Test_Pred,Maze.obstacles,500)"
   ]
  },
  {
   "cell_type": "markdown",
   "metadata": {},
   "source": [
    "### 2.Weights Extraction Analysis"
   ]
  },
  {
   "cell_type": "code",
   "execution_count": 17,
   "metadata": {
    "collapsed": false,
    "scrolled": true
   },
   "outputs": [
    {
     "ename": "TypeError",
     "evalue": "__init__() takes exactly 6 arguments (5 given)",
     "output_type": "error",
     "traceback": [
      "\u001b[0;31m---------------------------------------------------------------------------\u001b[0m",
      "\u001b[0;31mTypeError\u001b[0m                                 Traceback (most recent call last)",
      "\u001b[0;32m<ipython-input-17-1174ae53f049>\u001b[0m in \u001b[0;36m<module>\u001b[0;34m()\u001b[0m\n\u001b[0;32m----> 1\u001b[0;31m \u001b[0mDNN_DELTA\u001b[0m\u001b[0;34m=\u001b[0m\u001b[0mFullyConnectedDeepNet\u001b[0m\u001b[0;34m(\u001b[0m\u001b[0;36m6\u001b[0m\u001b[0;34m,\u001b[0m\u001b[0;36m100\u001b[0m\u001b[0;34m,\u001b[0m\u001b[0;36m2\u001b[0m\u001b[0;34m,\u001b[0m\u001b[0;36m4\u001b[0m\u001b[0;34m)\u001b[0m\u001b[0;34m\u001b[0m\u001b[0m\n\u001b[0m\u001b[1;32m      2\u001b[0m \u001b[0;31m# Train_Data=ReadData(Datapath)\u001b[0m\u001b[0;34m\u001b[0m\u001b[0;34m\u001b[0m\u001b[0m\n\u001b[1;32m      3\u001b[0m \u001b[0;31m# Train_Label=ReadData(Labelpath)\u001b[0m\u001b[0;34m\u001b[0m\u001b[0;34m\u001b[0m\u001b[0m\n\u001b[1;32m      4\u001b[0m \u001b[0mDNN_DELTA\u001b[0m\u001b[0;34m.\u001b[0m\u001b[0mLoadModel\u001b[0m\u001b[0;34m(\u001b[0m\u001b[0;34m\"TransitionModel_DELTA.h5\"\u001b[0m\u001b[0;34m)\u001b[0m\u001b[0;34m\u001b[0m\u001b[0m\n\u001b[1;32m      5\u001b[0m \u001b[0;32mfor\u001b[0m \u001b[0mlayer\u001b[0m \u001b[0;32min\u001b[0m \u001b[0mDNN_DELTA\u001b[0m\u001b[0;34m.\u001b[0m\u001b[0mGetModel\u001b[0m\u001b[0;34m(\u001b[0m\u001b[0;34m)\u001b[0m\u001b[0;34m.\u001b[0m\u001b[0mlayers\u001b[0m\u001b[0;34m:\u001b[0m\u001b[0;34m\u001b[0m\u001b[0m\n",
      "\u001b[0;31mTypeError\u001b[0m: __init__() takes exactly 6 arguments (5 given)"
     ]
    }
   ],
   "source": [
    "DNN_DELTA=FullyConnectedDeepNet(6,100,2,4,0.1)\n",
    "# Train_Data=ReadData(Datapath)\n",
    "# Train_Label=ReadData(Labelpath)\n",
    "DNN_DELTA.LoadModel(\"TransitionModel_DELTA.h5\")\n",
    "for layer in DNN_DELTA.GetModel().layers: \n",
    "    g=layer.get_config()\n",
    "    h=layer.get_weights() \n",
    "    print (g) \n",
    "    print (h)"
   ]
  },
  {
   "cell_type": "markdown",
   "metadata": {},
   "source": [
    "The weight matrix is input_dim * output_dim, bias is vector with output_dim\n",
    "\n",
    "The out put format is\n",
    "target_node_name Activition_function [input_nodel_name weight_target_input]+ ...\n",
    "\n",
    "We start from the first layer.."
   ]
  },
  {
   "cell_type": "markdown",
   "metadata": {},
   "source": [
    "### 3. Create New File Layout for MILP"
   ]
  },
  {
   "cell_type": "code",
   "execution_count": 18,
   "metadata": {
    "collapsed": false
   },
   "outputs": [
    {
     "name": "stdout",
     "output_type": "stream",
     "text": [
      "Done!\n",
      "Done!\n"
     ]
    }
   ],
   "source": [
    "class NetTopology(object):\n",
    "    def __init__(self,layers,drop_out):\n",
    "        self.layers=layers\n",
    "        self.input_dim=layers[0].get_config()[0].get('config').get('input_dim')\n",
    "        self.num_upper_layers=len(layers)\n",
    "        self.nodenames=[]\n",
    "        self.drop_out=drop_out\n",
    "        layernodename=[]\n",
    "        for i in range(0, self.input_dim):\n",
    "            layernodename.append('N0'+str(i))\n",
    "        layernodename.append('B0')\n",
    "        self.nodenames.append(layernodename)\n",
    "        \n",
    "    def LayerWiseTransform(self,layer,layer_id, lastlayer=False, hiddenstart='N', writefile=False, filehandler=None):\n",
    "        if not lastlayer:\n",
    "            input_dim = layer.get_config()[0].get('config').get('input_dim')\n",
    "            output_dim = layer.get_config()[0].get('config').get('output_dim')\n",
    "            activation = layer.get_config()[1].get('config').get('activation')\n",
    "        else:\n",
    "            input_dim = layer.get_config().get('input_dim')\n",
    "            output_dim = layer.get_config().get('output_dim')\n",
    "            activation = layer.get_config().get('activation')\n",
    "        layernodename=[]\n",
    "        weights_bias=layer.get_weights()\n",
    "        weights=weights_bias[0]\n",
    "        bias=weights_bias[1]\n",
    "        for i in range(0, output_dim):\n",
    "            layernodename.append(hiddenstart+str(layer_id)+str(i))\n",
    "        for i in range(0, output_dim):\n",
    "            row = [layernodename[i],activation]\n",
    "            for j in range(0, input_dim):\n",
    "                row.append(self.nodenames[-1][j])\n",
    "                row.append(weights[j][i]*self.drop_out)\n",
    "            row.append(self.nodenames[-1][-1])\n",
    "            row.append(bias[i])\n",
    "            if writefile:\n",
    "                filehandler.write(','.join(map(str, row))+'\\n')\n",
    "            else:\n",
    "                print ','.join(map(str, row))\n",
    "        layernodename.append('B'+str(layer_id))\n",
    "        self.nodenames.append(layernodename)\n",
    "        \n",
    "    def NetTransform(self,hiddenstart='N', writefile=False, filepath=None,overwrite=False):\n",
    "        filehandler=None\n",
    "        if writefile:\n",
    "            fullpath=PathFinder(filepath)\n",
    "            if overwrite is True:\n",
    "                filehandler = open(fullpath,'w')\n",
    "            else:\n",
    "                filehandler = open(fullpath,'a')\n",
    "        counter=0\n",
    "        for i in range(0,self.num_upper_layers):\n",
    "            if type(self.layers[i]) is not Dropout:\n",
    "                if (i==self.num_upper_layers-1):\n",
    "                    self.LayerWiseTransform(self.layers[i],counter+1, True, hiddenstart, writefile, filehandler)\n",
    "                else:\n",
    "                    self.LayerWiseTransform(self.layers[i],counter+1, False, hiddenstart, writefile, filehandler)\n",
    "                counter=counter+1\n",
    "        if writefile:\n",
    "            filehandler.close()\n",
    "        print 'Done!'\n",
    "            \n",
    "        \n",
    "        \n",
    "\n",
    "Topo_DELTA=NetTopology(DNN_DELTA.GetModel().layers,DNN_DELTA.drop_out)\n",
    "Topo_DELTA.NetTransform('D',True, \"Network_MIX.txt\",True)\n",
    "Topo_INJAIL=NetTopology(DNN_INJAIL.GetModel().layers,DNN_INJAIL.drop_out)\n",
    "Topo_INJAIL.NetTransform('I',True, \"Network_MIX.txt\",False)\n",
    "        \n",
    "    "
   ]
  },
  {
   "cell_type": "markdown",
   "metadata": {
    "collapsed": true
   },
   "source": [
    "### Notice: \n",
    "the output in shape\n",
    "Output_node_id,Activation_function_name,[Input_node_id, Input_node_weight,]+Bias_id,Bias_weight"
   ]
  },
  {
   "cell_type": "code",
   "execution_count": null,
   "metadata": {
    "collapsed": true
   },
   "outputs": [],
   "source": []
  }
 ],
 "metadata": {
  "kernelspec": {
   "display_name": "Python 2",
   "language": "python",
   "name": "python2"
  },
  "language_info": {
   "codemirror_mode": {
    "name": "ipython",
    "version": 2
   },
   "file_extension": ".py",
   "mimetype": "text/x-python",
   "name": "python",
   "nbconvert_exporter": "python",
   "pygments_lexer": "ipython2",
   "version": "2.7.12"
  },
  "widgets": {
   "state": {},
   "version": "1.1.2"
  }
 },
 "nbformat": 4,
 "nbformat_minor": 0
}
